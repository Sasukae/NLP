{
 "cells": [
  {
   "cell_type": "code",
   "execution_count": 1,
   "id": "17fd12bd",
   "metadata": {},
   "outputs": [],
   "source": [
    "import spacy\n",
    "nlp = spacy.load(\"en_core_web_sm\")"
   ]
  },
  {
   "cell_type": "code",
   "execution_count": 2,
   "id": "a30f5dd4",
   "metadata": {},
   "outputs": [],
   "source": [
    "text = \"'Inflation rose again in April, continuing a climb that has pushed consumers to the brink and is threatening the economic expansion, the Bureau of Labor Statistics reported Wednesday.\\n\\nThe consumer price index, a broad-based measure of prices for goods and services, increased 8.3% from a year ago, higher than the Dow Jones estimate for an 8.1% gain. That represented a slight ease from Marchâ€™s peak but was still close to the highest level since the summer of 1982.\\n\\nRemoving volatile food and ene'\""
   ]
  },
  {
   "cell_type": "markdown",
   "id": "98f81611",
   "metadata": {},
   "source": [
    "### Extract NOUN and NUM tokens"
   ]
  },
  {
   "cell_type": "code",
   "execution_count": 5,
   "id": "a8ad894b",
   "metadata": {},
   "outputs": [
    {
     "data": {
      "text/plain": [
       "(['Inflation',\n",
       "  'climb',\n",
       "  'consumers',\n",
       "  'brink',\n",
       "  'expansion',\n",
       "  'consumer',\n",
       "  'price',\n",
       "  'index',\n",
       "  'measure',\n",
       "  'prices',\n",
       "  'goods',\n",
       "  'services',\n",
       "  '%',\n",
       "  'year',\n",
       "  'estimate',\n",
       "  '%',\n",
       "  'gain',\n",
       "  'ease',\n",
       "  'Marchâ€',\n",
       "  '™',\n",
       "  'peak',\n",
       "  'level',\n",
       "  'summer',\n",
       "  'food',\n",
       "  'ene'],\n",
       " ['8.3', '8.1', '1982'])"
      ]
     },
     "execution_count": 5,
     "metadata": {},
     "output_type": "execute_result"
    }
   ],
   "source": [
    "doc = nlp(text)\n",
    "noun_lst = []\n",
    "num_lst = []\n",
    "for token in doc:\n",
    "    if token.pos_ == \"NOUN\":\n",
    "        noun_lst.append(token.text)\n",
    "    if token.pos_ == \"NUM\":\n",
    "        num_lst.append(token.text)\n",
    "noun_lst,num_lst\n",
    "        \n",
    "        "
   ]
  },
  {
   "cell_type": "markdown",
   "id": "f35ec73b",
   "metadata": {},
   "source": [
    "### Print a count of all POS tags"
   ]
  },
  {
   "cell_type": "code",
   "execution_count": 11,
   "id": "6743d6fc",
   "metadata": {},
   "outputs": [
    {
     "name": "stdout",
     "output_type": "stream",
     "text": [
      "PUNCT | 11\n",
      "NOUN | 25\n",
      "VERB | 9\n",
      "ADV | 4\n",
      "ADP | 11\n",
      "PROPN | 7\n",
      "DET | 12\n",
      "PRON | 2\n",
      "AUX | 3\n",
      "CCONJ | 4\n",
      "ADJ | 6\n",
      "SPACE | 2\n",
      "NUM | 3\n",
      "PART | 1\n",
      "SCONJ | 1\n"
     ]
    }
   ],
   "source": [
    "counts = doc.count_by(spacy.attrs.POS)\n",
    "for k,v in counts.items():\n",
    "    print(doc.vocab[k].text,\"|\", v)"
   ]
  }
 ],
 "metadata": {
  "kernelspec": {
   "display_name": "Python 3",
   "language": "python",
   "name": "python3"
  },
  "language_info": {
   "codemirror_mode": {
    "name": "ipython",
    "version": 3
   },
   "file_extension": ".py",
   "mimetype": "text/x-python",
   "name": "python",
   "nbconvert_exporter": "python",
   "pygments_lexer": "ipython3",
   "version": "3.8.8"
  }
 },
 "nbformat": 4,
 "nbformat_minor": 5
}
