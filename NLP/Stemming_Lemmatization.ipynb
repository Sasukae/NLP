{
 "cells": [
  {
   "cell_type": "markdown",
   "id": "4d0e919a",
   "metadata": {},
   "source": [
    "## Stemming"
   ]
  },
  {
   "cell_type": "code",
   "execution_count": 2,
   "id": "bb3cd01b",
   "metadata": {
    "scrolled": false
   },
   "outputs": [],
   "source": [
    "import nltk\n",
    "import spacy\n",
    "from nltk.stem import PorterStemmer\n",
    "# nltk.download('all')"
   ]
  },
  {
   "cell_type": "code",
   "execution_count": 5,
   "id": "cb830d62",
   "metadata": {},
   "outputs": [],
   "source": [
    "\n",
    "nlp = spacy.load(\"en_core_web_sm\")"
   ]
  },
  {
   "cell_type": "markdown",
   "id": "9f1a1799",
   "metadata": {},
   "source": [
    "Exercise1:\n",
    "\n",
    "Convert these list of words into base form using Stemming and Lemmatization and observe the transformations\n",
    "Write a short note on the words that have different base words using stemming and Lemmatization"
   ]
  },
  {
   "cell_type": "code",
   "execution_count": 20,
   "id": "43fd47b2",
   "metadata": {},
   "outputs": [
    {
     "name": "stdout",
     "output_type": "stream",
     "text": [
      "running | run\n",
      "painting | paint\n",
      "walking | walk\n",
      "dressing | dress\n",
      "likely | like\n",
      "children | children\n",
      "whom | whom\n",
      "good | good\n",
      "ate | ate\n",
      "fishing | fish\n"
     ]
    }
   ],
   "source": [
    "#using stemming in nltk with list of words\n",
    "lst_words = ['running', 'painting', 'walking', 'dressing', 'likely', 'children', 'whom', 'good', 'ate', 'fishing']\n",
    "\n",
    "stem_lst = []\n",
    "stemmer = PorterStemmer()\n",
    "for word in lst_words:\n",
    "    stem = stemmer.stem(word)\n",
    "    stem_lst.append(stem)\n",
    "    print(word , \"|\", stem)\n"
   ]
  },
  {
   "cell_type": "code",
   "execution_count": 21,
   "id": "4eb43379",
   "metadata": {},
   "outputs": [
    {
     "name": "stdout",
     "output_type": "stream",
     "text": [
      "['Programmers', 'program', 'with', 'programming', 'languages']\n",
      "Programmers | programm\n",
      "program | program\n",
      "with | with\n",
      "programming | program\n",
      "languages | languag\n"
     ]
    }
   ],
   "source": [
    "### stemming with nltk with sentence\n",
    "doc  = \"Programmers program with programming languages\"\n",
    "from nltk.tokenize import word_tokenize\n",
    "\n",
    "words = word_tokenize(doc)\n",
    "print(words)\n",
    "\n",
    "for word in words:\n",
    "    stem = stemmer.stem(word)\n",
    "    print(word, \"|\", stem)\n"
   ]
  },
  {
   "cell_type": "markdown",
   "id": "9497611a",
   "metadata": {},
   "source": [
    "## spacy doesn't has stemming "
   ]
  },
  {
   "cell_type": "markdown",
   "id": "2ffe3f17",
   "metadata": {},
   "source": [
    "## Lemmatization"
   ]
  },
  {
   "cell_type": "code",
   "execution_count": 26,
   "id": "c35f2428",
   "metadata": {},
   "outputs": [
    {
     "name": "stdout",
     "output_type": "stream",
     "text": [
      "running | run\n",
      "painting | paint\n",
      "walking | walk\n",
      "dressing | dress\n",
      "likely | likely\n",
      "children | child\n",
      "who | who\n",
      "good | good\n",
      "ate | eat\n",
      "fishing | fishing\n"
     ]
    }
   ],
   "source": [
    "#using lemmatization in spacy\n",
    "\n",
    "doc = nlp(\"running painting walking dressing likely children who good ate fishing\")\n",
    "for token in doc:\n",
    "    print(token.text, \"|\" , token.lemma_)"
   ]
  },
  {
   "cell_type": "code",
   "execution_count": 31,
   "id": "17737a9e",
   "metadata": {},
   "outputs": [
    {
     "name": "stdout",
     "output_type": "stream",
     "text": [
      "running | running\n",
      "painting | painting\n",
      "walking | walking\n",
      "dressing | dressing\n",
      "likely | likely\n",
      "children | child\n",
      "who | who\n",
      "good | good\n",
      "ate | ate\n",
      "fishing | fishing\n"
     ]
    }
   ],
   "source": [
    "#using lemmatization in nltk\n",
    "from nltk.stem import WordNetLemmatizer\n",
    "lm = WordNetLemmatizer()\n",
    "doc = \"running painting walking dressing likely children who good ate fishing\"\n",
    "\n",
    "words = word_tokenize(doc)\n",
    "for word in words:\n",
    "    print(word, \"|\", lm.lemmatize(word))\n"
   ]
  },
  {
   "cell_type": "code",
   "execution_count": 32,
   "id": "b11e79d5",
   "metadata": {},
   "outputs": [
    {
     "name": "stdout",
     "output_type": "stream",
     "text": [
      "['tok2vec', 'tagger', 'parser', 'attribute_ruler', 'lemmatizer', 'ner']\n",
      "Bro | Brother\n",
      ", | ,\n",
      "you | you\n",
      "wanna | wanna\n",
      "go | go\n",
      "? | ?\n",
      "Brah | Brother\n",
      ", | ,\n",
      "do | do\n",
      "n't | not\n",
      "say | say\n",
      "no | no\n",
      "! | !\n",
      "I | I\n",
      "am | be\n",
      "exhausted | exhaust\n"
     ]
    }
   ],
   "source": [
    "### Customization in spacy\n",
    "print(nlp.pipe_names)\n",
    "ar = nlp.get_pipe('attribute_ruler')\n",
    "ar.add([[{\"TEXT\":\"Bro\"}],[{\"TEXT\":\"Brah\"}]],{\"LEMMA\":\"Brother\"})\n",
    "doc = nlp(\"Bro, you wanna go? Brah, don't say no! I am exhausted\")\n",
    "for token in doc:\n",
    "    print(token.text, \"|\", token.lemma_)\n"
   ]
  },
  {
   "cell_type": "markdown",
   "id": "13282f33",
   "metadata": {},
   "source": [
    "Exercise2:\n",
    "\n",
    "convert the given text into it's base form using both stemming and lemmatization"
   ]
  },
  {
   "cell_type": "code",
   "execution_count": 42,
   "id": "a3e8d9e3",
   "metadata": {},
   "outputs": [],
   "source": [
    "text = \"\"\"Latha is very multi talented girl. She is good at many skills like dancing, running, singing, playing. She also likes eating Pav Bhagi. she has a habit of fishing and swimming too.Besides all this, she is a wonderful at cooking too.\n",
    "\"\"\""
   ]
  },
  {
   "cell_type": "code",
   "execution_count": 61,
   "id": "7e55abb4",
   "metadata": {},
   "outputs": [
    {
     "name": "stdout",
     "output_type": "stream",
     "text": [
      "Initial Text Latha is very multi talented girl. She is good at many skills like dancing, running, singing, playing. She also likes eating Pav Bhagi. she has a habit of fishing and swimming too.Besides all this, she is a wonderful at cooking too.\n",
      ": \n",
      "Stemmed Text latha is veri multi talent girl . she is good at mani skill like danc , run , sing , play . she also like eat pav bhagi . she ha a habit of fish and swim too.besid all thi , she is a wonder at cook too .: \n",
      "Lemmatized Text Latha be very multi talented girl . she be good at many skill like dancing , running , singing , play . she also like eat Pav Bhagi . she have a habit of fishing and swim too . besides all this , she be a wonderful at cook too . \n",
      ": \n"
     ]
    }
   ],
   "source": [
    "from nltk.tokenize import word_tokenize,sent_tokenize\n",
    "from nltk.stem import PorterStemmer\n",
    "ps = PorterStemmer()\n",
    "\n",
    "print(\"Initial Text {}: \".format(text))\n",
    "sentence = sent_tokenize(text)\n",
    "# print(\"list of sentences {}\".format(sentence))\n",
    "stemmed_txt = []\n",
    "for sent in sentence:\n",
    "    words = word_tokenize(sent)\n",
    "    stem_lst = []\n",
    "    for word in words:\n",
    "        stem = ps.stem(word)\n",
    "        stem_lst.append(stem)\n",
    "    text1 = \" \".join(stem_lst)\n",
    "    stemmed_txt.append(text1)\n",
    "stemmed_text = \" \".join(stemmed_txt)\n",
    "print(\"Stemmed Text {}: \".format(stemmed_text))\n",
    "doc = nlp(text)\n",
    "lemma_lst = []\n",
    "for token in doc:\n",
    "    lemma_token = token.lemma_\n",
    "    lemma_lst.append(lemma_token)\n",
    "lemma_txt = \" \".join(lemma_lst) \n",
    "print(\"Lemmatized Text {}: \".format(lemma_txt))\n",
    "        \n"
   ]
  }
 ],
 "metadata": {
  "kernelspec": {
   "display_name": "Python 3",
   "language": "python",
   "name": "python3"
  },
  "language_info": {
   "codemirror_mode": {
    "name": "ipython",
    "version": 3
   },
   "file_extension": ".py",
   "mimetype": "text/x-python",
   "name": "python",
   "nbconvert_exporter": "python",
   "pygments_lexer": "ipython3",
   "version": "3.8.8"
  }
 },
 "nbformat": 4,
 "nbformat_minor": 5
}
