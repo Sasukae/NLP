{
 "cells": [
  {
   "cell_type": "markdown",
   "id": "e64a92cf",
   "metadata": {},
   "source": [
    "## spacy_text_classification : Exercise\n",
    "In this exercise, you are going to classify whether a given text belongs to one of possible classes ['BUSINESS', 'SPORTS', 'CRIME'].\n",
    "\n",
    "you are going to use spacy for pre-processing the text, convert text to numbers and apply different classification algorithms."
   ]
  },
  {
   "cell_type": "code",
   "execution_count": 48,
   "id": "5d150e99",
   "metadata": {},
   "outputs": [],
   "source": [
    "import pandas as pd\n",
    "import numpy as np\n",
    "import spacy\n",
    "nlp = spacy.load(\"en_core_web_lg\")\n",
    "from sklearn.model_selection import train_test_split\n",
    "from sklearn.tree import DecisionTreeClassifier\n",
    "from sklearn.ensemble import  RandomForestClassifier,GradientBoostingClassifier\n",
    "from sklearn.neighbors import KNeighborsClassifier\n",
    "from sklearn.naive_bayes import MultinomialNB\n",
    "from sklearn.metrics import classification_report\n",
    "from sklearn.preprocessing import MinMaxScaler\n"
   ]
  },
  {
   "cell_type": "code",
   "execution_count": 49,
   "id": "c27b074b",
   "metadata": {},
   "outputs": [
    {
     "data": {
      "text/plain": [
       "((7500, 2),\n",
       "                                                 text  category\n",
       " 0  Larry Nassar Blames His Victims, Says He 'Was ...     CRIME\n",
       " 1       Woman Beats Cancer, Dies Falling From Horse      CRIME\n",
       " 2  Vegas Taxpayers Could Spend A Record $750 Mill...    SPORTS\n",
       " 3  This Richard Sherman Interception Literally Sh...    SPORTS\n",
       " 4  7 Things That Could Totally Kill Weed Legaliza...  BUSINESS,\n",
       " SPORTS      2500\n",
       " CRIME       2500\n",
       " BUSINESS    2500\n",
       " Name: category, dtype: int64)"
      ]
     },
     "execution_count": 49,
     "metadata": {},
     "output_type": "execute_result"
    }
   ],
   "source": [
    "data = pd.read_json(\"news_dataset.json\")\n",
    "data.shape,data.head(),data.category.value_counts()"
   ]
  },
  {
   "cell_type": "code",
   "execution_count": 50,
   "id": "12034a82",
   "metadata": {},
   "outputs": [
    {
     "data": {
      "text/plain": [
       "(0    2500\n",
       " 1    2500\n",
       " 2    2500\n",
       " Name: label_num, dtype: int64,\n",
       "                                                 text  category  label_num\n",
       " 0  Larry Nassar Blames His Victims, Says He 'Was ...     CRIME          0\n",
       " 1       Woman Beats Cancer, Dies Falling From Horse      CRIME          0\n",
       " 2  Vegas Taxpayers Could Spend A Record $750 Mill...    SPORTS          1\n",
       " 3  This Richard Sherman Interception Literally Sh...    SPORTS          1\n",
       " 4  7 Things That Could Totally Kill Weed Legaliza...  BUSINESS          2)"
      ]
     },
     "execution_count": 50,
     "metadata": {},
     "output_type": "execute_result"
    }
   ],
   "source": [
    "data[\"label_num\"] = data.category.map({\"CRIME\":0,\"SPORTS\":1,\"BUSINESS\":2})\n",
    "data.label_num.value_counts(),data.head()"
   ]
  },
  {
   "cell_type": "code",
   "execution_count": 51,
   "id": "d2f1316c",
   "metadata": {},
   "outputs": [],
   "source": [
    "#use this utility function to preprocess the text\n",
    "#1. Remove the stop words\n",
    "#2. Convert to base form using lemmatisation\n",
    "\n",
    "def preprocess(text):\n",
    "    doc = nlp(text)\n",
    "    filtered_tokens = []\n",
    "    for token in doc:\n",
    "        if token.is_stop or token.is_punct:\n",
    "            continue\n",
    "        filtered_tokens.append(token.lemma_)\n",
    "    return ' '.join(filtered_tokens)\n",
    "data['pre_processed_text'] = data[\"text\"].apply(lambda x: preprocess(x))"
   ]
  },
  {
   "cell_type": "code",
   "execution_count": 52,
   "id": "f4c03582",
   "metadata": {},
   "outputs": [
    {
     "data": {
      "text/html": [
       "<div>\n",
       "<style scoped>\n",
       "    .dataframe tbody tr th:only-of-type {\n",
       "        vertical-align: middle;\n",
       "    }\n",
       "\n",
       "    .dataframe tbody tr th {\n",
       "        vertical-align: top;\n",
       "    }\n",
       "\n",
       "    .dataframe thead th {\n",
       "        text-align: right;\n",
       "    }\n",
       "</style>\n",
       "<table border=\"1\" class=\"dataframe\">\n",
       "  <thead>\n",
       "    <tr style=\"text-align: right;\">\n",
       "      <th></th>\n",
       "      <th>text</th>\n",
       "      <th>category</th>\n",
       "      <th>label_num</th>\n",
       "      <th>pre_processed_text</th>\n",
       "    </tr>\n",
       "  </thead>\n",
       "  <tbody>\n",
       "    <tr>\n",
       "      <th>0</th>\n",
       "      <td>Larry Nassar Blames His Victims, Says He 'Was ...</td>\n",
       "      <td>CRIME</td>\n",
       "      <td>0</td>\n",
       "      <td>Larry Nassar blame victim say victimize newly ...</td>\n",
       "    </tr>\n",
       "    <tr>\n",
       "      <th>1</th>\n",
       "      <td>Woman Beats Cancer, Dies Falling From Horse</td>\n",
       "      <td>CRIME</td>\n",
       "      <td>0</td>\n",
       "      <td>woman Beats Cancer die fall horse</td>\n",
       "    </tr>\n",
       "    <tr>\n",
       "      <th>2</th>\n",
       "      <td>Vegas Taxpayers Could Spend A Record $750 Mill...</td>\n",
       "      <td>SPORTS</td>\n",
       "      <td>1</td>\n",
       "      <td>vegas taxpayer spend Record $ 750 million New ...</td>\n",
       "    </tr>\n",
       "    <tr>\n",
       "      <th>3</th>\n",
       "      <td>This Richard Sherman Interception Literally Sh...</td>\n",
       "      <td>SPORTS</td>\n",
       "      <td>1</td>\n",
       "      <td>Richard Sherman Interception literally shake W...</td>\n",
       "    </tr>\n",
       "    <tr>\n",
       "      <th>4</th>\n",
       "      <td>7 Things That Could Totally Kill Weed Legaliza...</td>\n",
       "      <td>BUSINESS</td>\n",
       "      <td>2</td>\n",
       "      <td>7 thing totally kill Weed Legalization Buzz</td>\n",
       "    </tr>\n",
       "  </tbody>\n",
       "</table>\n",
       "</div>"
      ],
      "text/plain": [
       "                                                text  category  label_num  \\\n",
       "0  Larry Nassar Blames His Victims, Says He 'Was ...     CRIME          0   \n",
       "1       Woman Beats Cancer, Dies Falling From Horse      CRIME          0   \n",
       "2  Vegas Taxpayers Could Spend A Record $750 Mill...    SPORTS          1   \n",
       "3  This Richard Sherman Interception Literally Sh...    SPORTS          1   \n",
       "4  7 Things That Could Totally Kill Weed Legaliza...  BUSINESS          2   \n",
       "\n",
       "                                  pre_processed_text  \n",
       "0  Larry Nassar blame victim say victimize newly ...  \n",
       "1                  woman Beats Cancer die fall horse  \n",
       "2  vegas taxpayer spend Record $ 750 million New ...  \n",
       "3  Richard Sherman Interception literally shake W...  \n",
       "4        7 thing totally kill Weed Legalization Buzz  "
      ]
     },
     "execution_count": 52,
     "metadata": {},
     "output_type": "execute_result"
    }
   ],
   "source": [
    "data.head()"
   ]
  },
  {
   "cell_type": "code",
   "execution_count": 53,
   "id": "7d2f5027",
   "metadata": {},
   "outputs": [],
   "source": [
    "data[\"Text_vectors\"] = data[\"pre_processed_text\"].apply(lambda x: nlp(x).vector)"
   ]
  },
  {
   "cell_type": "code",
   "execution_count": 54,
   "id": "88ee40c9",
   "metadata": {},
   "outputs": [
    {
     "data": {
      "text/html": [
       "<div>\n",
       "<style scoped>\n",
       "    .dataframe tbody tr th:only-of-type {\n",
       "        vertical-align: middle;\n",
       "    }\n",
       "\n",
       "    .dataframe tbody tr th {\n",
       "        vertical-align: top;\n",
       "    }\n",
       "\n",
       "    .dataframe thead th {\n",
       "        text-align: right;\n",
       "    }\n",
       "</style>\n",
       "<table border=\"1\" class=\"dataframe\">\n",
       "  <thead>\n",
       "    <tr style=\"text-align: right;\">\n",
       "      <th></th>\n",
       "      <th>text</th>\n",
       "      <th>category</th>\n",
       "      <th>label_num</th>\n",
       "      <th>pre_processed_text</th>\n",
       "      <th>Text_vectors</th>\n",
       "    </tr>\n",
       "  </thead>\n",
       "  <tbody>\n",
       "    <tr>\n",
       "      <th>0</th>\n",
       "      <td>Larry Nassar Blames His Victims, Says He 'Was ...</td>\n",
       "      <td>CRIME</td>\n",
       "      <td>0</td>\n",
       "      <td>Larry Nassar blame victim say victimize newly ...</td>\n",
       "      <td>[-0.5585511, -0.29323253, -0.9253956, 0.189389...</td>\n",
       "    </tr>\n",
       "    <tr>\n",
       "      <th>1</th>\n",
       "      <td>Woman Beats Cancer, Dies Falling From Horse</td>\n",
       "      <td>CRIME</td>\n",
       "      <td>0</td>\n",
       "      <td>woman Beats Cancer die fall horse</td>\n",
       "      <td>[-0.73039824, -0.43196002, -1.2930516, -1.0628...</td>\n",
       "    </tr>\n",
       "    <tr>\n",
       "      <th>2</th>\n",
       "      <td>Vegas Taxpayers Could Spend A Record $750 Mill...</td>\n",
       "      <td>SPORTS</td>\n",
       "      <td>1</td>\n",
       "      <td>vegas taxpayer spend Record $ 750 million New ...</td>\n",
       "      <td>[-1.9413117, 0.121578515, -3.2996283, 1.511650...</td>\n",
       "    </tr>\n",
       "    <tr>\n",
       "      <th>3</th>\n",
       "      <td>This Richard Sherman Interception Literally Sh...</td>\n",
       "      <td>SPORTS</td>\n",
       "      <td>1</td>\n",
       "      <td>Richard Sherman Interception literally shake W...</td>\n",
       "      <td>[-1.4702771, -0.685319, 0.57398, -0.31135806, ...</td>\n",
       "    </tr>\n",
       "    <tr>\n",
       "      <th>4</th>\n",
       "      <td>7 Things That Could Totally Kill Weed Legaliza...</td>\n",
       "      <td>BUSINESS</td>\n",
       "      <td>2</td>\n",
       "      <td>7 thing totally kill Weed Legalization Buzz</td>\n",
       "      <td>[-1.037173, -1.9495698, -1.7179357, 1.2975286,...</td>\n",
       "    </tr>\n",
       "  </tbody>\n",
       "</table>\n",
       "</div>"
      ],
      "text/plain": [
       "                                                text  category  label_num  \\\n",
       "0  Larry Nassar Blames His Victims, Says He 'Was ...     CRIME          0   \n",
       "1       Woman Beats Cancer, Dies Falling From Horse      CRIME          0   \n",
       "2  Vegas Taxpayers Could Spend A Record $750 Mill...    SPORTS          1   \n",
       "3  This Richard Sherman Interception Literally Sh...    SPORTS          1   \n",
       "4  7 Things That Could Totally Kill Weed Legaliza...  BUSINESS          2   \n",
       "\n",
       "                                  pre_processed_text  \\\n",
       "0  Larry Nassar blame victim say victimize newly ...   \n",
       "1                  woman Beats Cancer die fall horse   \n",
       "2  vegas taxpayer spend Record $ 750 million New ...   \n",
       "3  Richard Sherman Interception literally shake W...   \n",
       "4        7 thing totally kill Weed Legalization Buzz   \n",
       "\n",
       "                                        Text_vectors  \n",
       "0  [-0.5585511, -0.29323253, -0.9253956, 0.189389...  \n",
       "1  [-0.73039824, -0.43196002, -1.2930516, -1.0628...  \n",
       "2  [-1.9413117, 0.121578515, -3.2996283, 1.511650...  \n",
       "3  [-1.4702771, -0.685319, 0.57398, -0.31135806, ...  \n",
       "4  [-1.037173, -1.9495698, -1.7179357, 1.2975286,...  "
      ]
     },
     "execution_count": 54,
     "metadata": {},
     "output_type": "execute_result"
    }
   ],
   "source": [
    "data.head()"
   ]
  },
  {
   "cell_type": "code",
   "execution_count": 55,
   "id": "2e6471b1",
   "metadata": {},
   "outputs": [
    {
     "data": {
      "text/plain": [
       "((6000,),\n",
       " 0    500\n",
       " 1    500\n",
       " 2    500\n",
       " Name: label_num, dtype: int64)"
      ]
     },
     "execution_count": 55,
     "metadata": {},
     "output_type": "execute_result"
    }
   ],
   "source": [
    "X_train,X_test,y_train,y_test = train_test_split(data.Text_vectors,data.label_num,test_size = 0.2,random_state = 2022,stratify = data.label_num)\n",
    "X_train.shape,y_test.value_counts()"
   ]
  },
  {
   "cell_type": "code",
   "execution_count": 56,
   "id": "b48ce296",
   "metadata": {},
   "outputs": [
    {
     "data": {
      "text/plain": [
       "array([[0.27817938, 0.5663708 , 0.74376684, ..., 0.40017802, 0.3794984 ,\n",
       "        0.4469468 ],\n",
       "       [0.63553566, 0.5524225 , 0.73191935, ..., 0.54046863, 0.4326021 ,\n",
       "        0.40374613],\n",
       "       [0.46244982, 0.59572685, 0.7960382 , ..., 0.5631015 , 0.37988418,\n",
       "        0.33866048],\n",
       "       ...,\n",
       "       [0.5790279 , 0.49189818, 0.7403683 , ..., 0.44331828, 0.4465529 ,\n",
       "        0.3923427 ],\n",
       "       [0.51459134, 0.54347765, 0.73259276, ..., 0.52818173, 0.29404372,\n",
       "        0.5041112 ],\n",
       "       [0.5082389 , 0.54874676, 0.7986909 , ..., 0.31099242, 0.5199038 ,\n",
       "        0.4578981 ]], dtype=float32)"
      ]
     },
     "execution_count": 56,
     "metadata": {},
     "output_type": "execute_result"
    }
   ],
   "source": [
    "X_train_stack = np.stack(X_train)\n",
    "X_test_stack = np.stack(X_test)\n",
    "scaler = MinMaxScaler()\n",
    "X_train_stack_scald = scaler.fit_transform(X_train_stack)\n",
    "X_test_stack_scald = scaler.transform(X_test_stack)\n",
    "X_test_stack_scald"
   ]
  },
  {
   "cell_type": "markdown",
   "id": "5595a34a",
   "metadata": {},
   "source": [
    "## Attempt 1:\n",
    "\n",
    "use spacy glove embeddings for text vectorization.\n",
    "\n",
    "use Decision Tree as the classifier.\n",
    "\n",
    "print the classification report."
   ]
  },
  {
   "cell_type": "code",
   "execution_count": 57,
   "id": "0a365de6",
   "metadata": {},
   "outputs": [
    {
     "name": "stdout",
     "output_type": "stream",
     "text": [
      "              precision    recall  f1-score   support\n",
      "\n",
      "           0       0.72      0.76      0.74       500\n",
      "           1       0.71      0.72      0.71       500\n",
      "           2       0.78      0.73      0.75       500\n",
      "\n",
      "    accuracy                           0.73      1500\n",
      "   macro avg       0.74      0.73      0.73      1500\n",
      "weighted avg       0.74      0.73      0.73      1500\n",
      "\n"
     ]
    }
   ],
   "source": [
    "decison_tree = DecisionTreeClassifier()\n",
    "decison_tree.fit(X_train_stack_scald,y_train)\n",
    "y_pred = decison_tree.predict(X_test_stack_scald)\n",
    "print(classification_report(y_test,y_pred))"
   ]
  },
  {
   "cell_type": "markdown",
   "id": "2426ebd2",
   "metadata": {},
   "source": [
    "## Attempt 2:\n",
    "\n",
    "use spacy glove embeddings for text vectorization.\n",
    "use MultinomialNB as the classifier after applying the MinMaxscaler.\n",
    "print the classification report."
   ]
  },
  {
   "cell_type": "code",
   "execution_count": 58,
   "id": "ae240a89",
   "metadata": {},
   "outputs": [
    {
     "name": "stdout",
     "output_type": "stream",
     "text": [
      "              precision    recall  f1-score   support\n",
      "\n",
      "           0       0.85      0.90      0.87       500\n",
      "           1       0.85      0.77      0.81       500\n",
      "           2       0.80      0.83      0.82       500\n",
      "\n",
      "    accuracy                           0.83      1500\n",
      "   macro avg       0.83      0.83      0.83      1500\n",
      "weighted avg       0.83      0.83      0.83      1500\n",
      "\n"
     ]
    }
   ],
   "source": [
    "NB_model = MultinomialNB()\n",
    "NB_model.fit(X_train_stack_scald,y_train)\n",
    "y_pred = NB_model.predict(X_test_stack_scald)\n",
    "print(classification_report(y_test,y_pred))"
   ]
  },
  {
   "cell_type": "markdown",
   "id": "83cb8129",
   "metadata": {},
   "source": [
    "## Attempt 3:\n",
    "\n",
    "use spacy glove embeddings for text vectorization.\n",
    "use KNeighborsClassifier as the classifier after applying the MinMaxscaler.\n",
    "print the classification report."
   ]
  },
  {
   "cell_type": "code",
   "execution_count": 59,
   "id": "f1e74f5d",
   "metadata": {},
   "outputs": [
    {
     "name": "stdout",
     "output_type": "stream",
     "text": [
      "              precision    recall  f1-score   support\n",
      "\n",
      "           0       0.84      0.95      0.89       500\n",
      "           1       0.92      0.83      0.87       500\n",
      "           2       0.88      0.86      0.87       500\n",
      "\n",
      "    accuracy                           0.88      1500\n",
      "   macro avg       0.88      0.88      0.88      1500\n",
      "weighted avg       0.88      0.88      0.88      1500\n",
      "\n"
     ]
    }
   ],
   "source": [
    "KNN_model = KNeighborsClassifier()\n",
    "KNN_model.fit(X_train_stack_scald,y_train)\n",
    "y_pred = KNN_model.predict(X_test_stack_scald)\n",
    "print(classification_report(y_test,y_pred))"
   ]
  },
  {
   "cell_type": "markdown",
   "id": "5203fe0c",
   "metadata": {},
   "source": [
    "## Attempt 4:\n",
    "\n",
    "use spacy glove embeddings for text vectorization.\n",
    "use RandomForestClassifier as the classifier after applying the MinMaxscaler.\n",
    "print the classification report."
   ]
  },
  {
   "cell_type": "code",
   "execution_count": 60,
   "id": "d41879a4",
   "metadata": {},
   "outputs": [
    {
     "name": "stdout",
     "output_type": "stream",
     "text": [
      "              precision    recall  f1-score   support\n",
      "\n",
      "           0       0.87      0.90      0.88       500\n",
      "           1       0.90      0.83      0.87       500\n",
      "           2       0.85      0.89      0.87       500\n",
      "\n",
      "    accuracy                           0.87      1500\n",
      "   macro avg       0.87      0.87      0.87      1500\n",
      "weighted avg       0.87      0.87      0.87      1500\n",
      "\n"
     ]
    }
   ],
   "source": [
    "RF_model = RandomForestClassifier()\n",
    "RF_model.fit(X_train_stack_scald,y_train)\n",
    "y_pred = RF_model.predict(X_test_stack_scald)\n",
    "print(classification_report(y_test,y_pred))"
   ]
  },
  {
   "cell_type": "markdown",
   "id": "b9622366",
   "metadata": {},
   "source": [
    "## Attempt 5:\n",
    "\n",
    "use spacy glove embeddings for text vectorization.\n",
    "use GradientBoostingClassifier as the classifier after applying the MinMaxscaler.\n",
    "print the classification report."
   ]
  },
  {
   "cell_type": "code",
   "execution_count": 61,
   "id": "19ea4c47",
   "metadata": {},
   "outputs": [
    {
     "name": "stdout",
     "output_type": "stream",
     "text": [
      "              precision    recall  f1-score   support\n",
      "\n",
      "           0       0.90      0.90      0.90       500\n",
      "           1       0.91      0.87      0.89       500\n",
      "           2       0.88      0.92      0.90       500\n",
      "\n",
      "    accuracy                           0.90      1500\n",
      "   macro avg       0.90      0.90      0.90      1500\n",
      "weighted avg       0.90      0.90      0.90      1500\n",
      "\n"
     ]
    }
   ],
   "source": [
    "GBM_model = GradientBoostingClassifier()\n",
    "GBM_model.fit(X_train_stack_scald,y_train)\n",
    "y_pred = GBM_model.predict(X_test_stack_scald)\n",
    "print(classification_report(y_test,y_pred))"
   ]
  },
  {
   "cell_type": "code",
   "execution_count": 62,
   "id": "55f15544",
   "metadata": {},
   "outputs": [
    {
     "data": {
      "text/plain": [
       "<AxesSubplot:>"
      ]
     },
     "execution_count": 62,
     "metadata": {},
     "output_type": "execute_result"
    },
    {
     "data": {
      "image/png": "[encoded data removed]",
      "text/plain": [
       "<Figure size 432x288 with 2 Axes>"
      ]
     },
     "metadata": {
      "needs_background": "light"
     },
     "output_type": "display_data"
    }
   ],
   "source": [
    "from sklearn.metrics import confusion_matrix\n",
    "import seaborn as sn\n",
    "\n",
    "cm = confusion_matrix(y_test,y_pred)\n",
    "sn.heatmap(cm,annot = True,fmt = \"d\")"
   ]
  },
  {
   "cell_type": "code",
   "execution_count": null,
   "id": "b559b416",
   "metadata": {},
   "outputs": [],
   "source": []
  }
 ],
 "metadata": {
  "kernelspec": {
   "display_name": "Python 3",
   "language": "python",
   "name": "python3"
  },
  "language_info": {
   "codemirror_mode": {
    "name": "ipython",
    "version": 3
   },
   "file_extension": ".py",
   "mimetype": "text/x-python",
   "name": "python",
   "nbconvert_exporter": "python",
   "pygments_lexer": "ipython3",
   "version": "3.8.8"
  }
 },
 "nbformat": 4,
 "nbformat_minor": 5
}
