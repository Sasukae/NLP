{
 "cells": [
  {
   "cell_type": "code",
   "execution_count": 27,
   "id": "4d54d46b",
   "metadata": {},
   "outputs": [],
   "source": [
    "import pandas as pd\n",
    "import spacy\n",
    "nlp = spacy.load(\"en_core_web_sm\")\n",
    "\n",
    "from sklearn.neighbors import KNeighborsClassifier\n",
    "from sklearn.model_selection import train_test_split\n",
    "from sklearn.feature_extraction.text import CountVectorizer\n",
    "from sklearn.ensemble import RandomForestClassifier\n",
    "from sklearn.naive_bayes import MultinomialNB\n",
    "from sklearn.pipeline import Pipeline\n",
    "from sklearn.metrics import classification_report"
   ]
  },
  {
   "cell_type": "code",
   "execution_count": 28,
   "id": "c6809a81",
   "metadata": {},
   "outputs": [
    {
     "data": {
      "text/plain": [
       "((9900, 2),\n",
       "                                                 Text label\n",
       " 0   Top Trump Surrogate BRUTALLY Stabs Him In The...  Fake\n",
       " 1  U.S. conservative leader optimistic of common ...  Real\n",
       " 2  Trump proposes U.S. tax overhaul, stirs concer...  Real\n",
       " 3   Court Forces Ohio To Allow Millions Of Illega...  Fake\n",
       " 4  Democrats say Trump agrees to work on immigrat...  Real,\n",
       " Fake    5000\n",
       " Real    4900\n",
       " Name: label, dtype: int64)"
      ]
     },
     "execution_count": 28,
     "metadata": {},
     "output_type": "execute_result"
    }
   ],
   "source": [
    "data = pd.read_csv(\"Fake_Real_Data.csv\")\n",
    "data.shape,data.head(),data.label.value_counts()"
   ]
  },
  {
   "cell_type": "code",
   "execution_count": 29,
   "id": "6a417401",
   "metadata": {},
   "outputs": [
    {
     "data": {
      "text/plain": [
       "0    5000\n",
       "1    4900\n",
       "Name: label_num, dtype: int64"
      ]
     },
     "execution_count": 29,
     "metadata": {},
     "output_type": "execute_result"
    }
   ],
   "source": [
    "data[\"label_num\"] = data['label'].map({'Fake':0,'Real':1})\n",
    "data.label_num.value_counts()"
   ]
  },
  {
   "cell_type": "code",
   "execution_count": 30,
   "id": "609db17c",
   "metadata": {},
   "outputs": [
    {
     "data": {
      "text/plain": [
       "((7920,), (1980,))"
      ]
     },
     "execution_count": 30,
     "metadata": {},
     "output_type": "execute_result"
    }
   ],
   "source": [
    "X_train,X_test,y_train,y_test= train_test_split(data.Text,data.label_num,random_state = 2022,test_size = 0.2,stratify = data.label_num)\n",
    "X_train.shape,X_test.shape"
   ]
  },
  {
   "cell_type": "code",
   "execution_count": 31,
   "id": "fdcaf4c1",
   "metadata": {},
   "outputs": [
    {
     "data": {
      "text/plain": [
       "(0    1000\n",
       " 1     980\n",
       " Name: label_num, dtype: int64,\n",
       " 0    4000\n",
       " 1    3920\n",
       " Name: label_num, dtype: int64)"
      ]
     },
     "execution_count": 31,
     "metadata": {},
     "output_type": "execute_result"
    }
   ],
   "source": [
    "y_test.value_counts(),y_train.value_counts()"
   ]
  },
  {
   "cell_type": "markdown",
   "id": "9036946d",
   "metadata": {},
   "source": [
    "## Attempt 1 :\n",
    "\n",
    "using sklearn pipeline module create a classification pipeline to classify the Data.\n",
    "Note:\n",
    "\n",
    "using CountVectorizer.\n",
    "use KNN as the classifier with n_neighbors of 10 and metric as 'euclidean' distance.\n",
    "print the classification report."
   ]
  },
  {
   "cell_type": "code",
   "execution_count": 32,
   "id": "8799fc0c",
   "metadata": {},
   "outputs": [],
   "source": [
    "### 1 gram\n",
    "knn_pipeline = Pipeline([\n",
    "    \n",
    "    (\"vectorizer\",CountVectorizer()),\n",
    "    (\"Knn_model\",KNeighborsClassifier(n_neighbors = 10 , metric = \"euclidean\"))\n",
    "])"
   ]
  },
  {
   "cell_type": "code",
   "execution_count": 33,
   "id": "72d0be4a",
   "metadata": {
    "scrolled": true
   },
   "outputs": [
    {
     "name": "stdout",
     "output_type": "stream",
     "text": [
      "              precision    recall  f1-score   support\n",
      "\n",
      "           0       0.96      0.93      0.95      1000\n",
      "           1       0.93      0.96      0.95       980\n",
      "\n",
      "    accuracy                           0.95      1980\n",
      "   macro avg       0.95      0.95      0.95      1980\n",
      "weighted avg       0.95      0.95      0.95      1980\n",
      "\n"
     ]
    }
   ],
   "source": [
    "knn_pipeline.fit(X_train,y_train)\n",
    "y_pred = knn_pipeline.predict(X_test)\n",
    "print(classification_report(y_test,y_pred))"
   ]
  },
  {
   "cell_type": "markdown",
   "id": "831dfb6b",
   "metadata": {},
   "source": [
    "## Attempt 2:\n",
    "\n",
    "using sklearn pipeline module create a classification pipeline to classify the Data.\n",
    "Note:\n",
    "\n",
    "using CountVectorizer with unigram, bigram, and trigrams.\n",
    "use KNN as the classifier with n_neighbors of 10 and metric as 'euclidean' distance.\n",
    "print the classification report."
   ]
  },
  {
   "cell_type": "code",
   "execution_count": 34,
   "id": "7a3e6d69",
   "metadata": {},
   "outputs": [
    {
     "name": "stdout",
     "output_type": "stream",
     "text": [
      "              precision    recall  f1-score   support\n",
      "\n",
      "           0       0.96      0.49      0.65      1000\n",
      "           1       0.65      0.98      0.78       980\n",
      "\n",
      "    accuracy                           0.73      1980\n",
      "   macro avg       0.81      0.74      0.72      1980\n",
      "weighted avg       0.81      0.73      0.72      1980\n",
      "\n"
     ]
    }
   ],
   "source": [
    "### 1 - 3 gram\n",
    "knn_pipeline1 = Pipeline([\n",
    "    \n",
    "    (\"vectorizer\",CountVectorizer(ngram_range = (1,3))),\n",
    "    (\"Knn_model\",KNeighborsClassifier(n_neighbors = 10 , metric = \"euclidean\"))\n",
    "])\n",
    "knn_pipeline1.fit(X_train,y_train)\n",
    "y_pred = knn_pipeline1.predict(X_test)\n",
    "print(classification_report(y_test,y_pred))"
   ]
  },
  {
   "cell_type": "markdown",
   "id": "1aa77c2a",
   "metadata": {},
   "source": [
    "## Attempt 3 :\n",
    "\n",
    "using sklearn pipeline module create a classification pipeline to classify the Data.\n",
    "Note:\n",
    "\n",
    "using CountVectorizer with unigram, bigram, and trigrams.\n",
    "use KNN as the classifier with n_neighbors of 10 and metric as 'cosine' distance.\n",
    "print the classification report."
   ]
  },
  {
   "cell_type": "code",
   "execution_count": 35,
   "id": "54b57db8",
   "metadata": {},
   "outputs": [
    {
     "name": "stdout",
     "output_type": "stream",
     "text": [
      "              precision    recall  f1-score   support\n",
      "\n",
      "           0       0.99      0.55      0.71      1000\n",
      "           1       0.69      1.00      0.81       980\n",
      "\n",
      "    accuracy                           0.77      1980\n",
      "   macro avg       0.84      0.77      0.76      1980\n",
      "weighted avg       0.84      0.77      0.76      1980\n",
      "\n"
     ]
    }
   ],
   "source": [
    "### 1 - 3 gram\n",
    "knn_pipeline1 = Pipeline([\n",
    "    \n",
    "    (\"vectorizer\",CountVectorizer(ngram_range = (1,3))),\n",
    "    (\"Knn_model\",KNeighborsClassifier(n_neighbors = 10 , metric = \"cosine\"))\n",
    "])\n",
    "knn_pipeline1.fit(X_train,y_train)\n",
    "y_pred = knn_pipeline1.predict(X_test)\n",
    "print(classification_report(y_test,y_pred))"
   ]
  },
  {
   "cell_type": "markdown",
   "id": "5b2473ac",
   "metadata": {},
   "source": [
    "## Attempt 4 :\n",
    "\n",
    "using sklearn pipeline module create a classification pipeline to classify the Data.\n",
    "Note:\n",
    "\n",
    "using CountVectorizer with  trigrams.\n",
    "use Random Forest as the classifier.\n",
    "print the classification report."
   ]
  },
  {
   "cell_type": "code",
   "execution_count": 36,
   "id": "812ac4fc",
   "metadata": {},
   "outputs": [
    {
     "name": "stdout",
     "output_type": "stream",
     "text": [
      "              precision    recall  f1-score   support\n",
      "\n",
      "           0       0.99      1.00      1.00      1000\n",
      "           1       1.00      0.99      1.00       980\n",
      "\n",
      "    accuracy                           1.00      1980\n",
      "   macro avg       1.00      1.00      1.00      1980\n",
      "weighted avg       1.00      1.00      1.00      1980\n",
      "\n"
     ]
    }
   ],
   "source": [
    "### 1 - 3 gram\n",
    "Random_pipeline1 = Pipeline([\n",
    "    \n",
    "    (\"vectorizer\",CountVectorizer(ngram_range = (3,3))),\n",
    "    (\"RandomF_model\",RandomForestClassifier(n_estimators = 100, criterion = \"entropy\"))\n",
    "])\n",
    "Random_pipeline1.fit(X_train,y_train)\n",
    "y_pred = Random_pipeline1.predict(X_test)\n",
    "print(classification_report(y_test,y_pred))"
   ]
  },
  {
   "cell_type": "markdown",
   "id": "a1ad6470",
   "metadata": {},
   "source": [
    "## Attempt 5 :\n",
    "\n",
    "using the sklearn pipeline module create a classification pipeline to classify the Data.\n",
    "Note:\n",
    "\n",
    "using CountVectorizer with both unigram and bigrams.\n",
    "use Multinomial Naive Bayes as the classifier with an alpha value of 0.75.\n",
    "print the classification report."
   ]
  },
  {
   "cell_type": "code",
   "execution_count": 37,
   "id": "3823ee60",
   "metadata": {},
   "outputs": [
    {
     "name": "stdout",
     "output_type": "stream",
     "text": [
      "              precision    recall  f1-score   support\n",
      "\n",
      "           0       1.00      0.99      0.99      1000\n",
      "           1       0.99      1.00      0.99       980\n",
      "\n",
      "    accuracy                           0.99      1980\n",
      "   macro avg       0.99      0.99      0.99      1980\n",
      "weighted avg       0.99      0.99      0.99      1980\n",
      "\n"
     ]
    }
   ],
   "source": [
    "NB_pipeline1 = Pipeline([\n",
    "    \n",
    "    (\"vectorizer\",CountVectorizer(ngram_range = (3,3))),\n",
    "    (\"NB_model\",MultinomialNB(alpha = 0.75))\n",
    "])\n",
    "NB_pipeline1.fit(X_train,y_train)\n",
    "y_pred = NB_pipeline1.predict(X_test)\n",
    "print(classification_report(y_test,y_pred))"
   ]
  },
  {
   "cell_type": "markdown",
   "id": "9d221c8e",
   "metadata": {},
   "source": [
    "# Use text pre-processing to remove stop words, punctuations and apply lemmatization"
   ]
  },
  {
   "cell_type": "code",
   "execution_count": 49,
   "id": "788732cc",
   "metadata": {},
   "outputs": [],
   "source": [
    "def preprocessing(text):\n",
    "    doc = nlp(text)\n",
    "    nlp.vocab['not'].is_stop = \"False\"\n",
    "    req_token = []\n",
    "    for token in doc:\n",
    "        if not token.is_stop or not token.is_punct:\n",
    "            req_token.append(token.lemma_)\n",
    "    return \" \".join(req_token)\n",
    "            "
   ]
  },
  {
   "cell_type": "code",
   "execution_count": 50,
   "id": "221d29f4",
   "metadata": {},
   "outputs": [],
   "source": [
    "data['preprocessed_txt'] = data['Text'].apply(preprocessing) "
   ]
  },
  {
   "cell_type": "code",
   "execution_count": 51,
   "id": "91e66efc",
   "metadata": {},
   "outputs": [
    {
     "data": {
      "text/html": [
       "<div>\n",
       "<style scoped>\n",
       "    .dataframe tbody tr th:only-of-type {\n",
       "        vertical-align: middle;\n",
       "    }\n",
       "\n",
       "    .dataframe tbody tr th {\n",
       "        vertical-align: top;\n",
       "    }\n",
       "\n",
       "    .dataframe thead th {\n",
       "        text-align: right;\n",
       "    }\n",
       "</style>\n",
       "<table border=\"1\" class=\"dataframe\">\n",
       "  <thead>\n",
       "    <tr style=\"text-align: right;\">\n",
       "      <th></th>\n",
       "      <th>Text</th>\n",
       "      <th>label</th>\n",
       "      <th>label_num</th>\n",
       "      <th>preprocessed_txt</th>\n",
       "    </tr>\n",
       "  </thead>\n",
       "  <tbody>\n",
       "    <tr>\n",
       "      <th>0</th>\n",
       "      <td>Top Trump Surrogate BRUTALLY Stabs Him In The...</td>\n",
       "      <td>Fake</td>\n",
       "      <td>0</td>\n",
       "      <td>Top Trump Surrogate BRUTALLY Stabs Him in th...</td>\n",
       "    </tr>\n",
       "    <tr>\n",
       "      <th>1</th>\n",
       "      <td>U.S. conservative leader optimistic of common ...</td>\n",
       "      <td>Real</td>\n",
       "      <td>1</td>\n",
       "      <td>U.S. conservative leader optimistic of common ...</td>\n",
       "    </tr>\n",
       "    <tr>\n",
       "      <th>2</th>\n",
       "      <td>Trump proposes U.S. tax overhaul, stirs concer...</td>\n",
       "      <td>Real</td>\n",
       "      <td>1</td>\n",
       "      <td>trump propose U.S. tax overhaul , stir concern...</td>\n",
       "    </tr>\n",
       "    <tr>\n",
       "      <th>3</th>\n",
       "      <td>Court Forces Ohio To Allow Millions Of Illega...</td>\n",
       "      <td>Fake</td>\n",
       "      <td>0</td>\n",
       "      <td>Court Forces Ohio to allow million of illega...</td>\n",
       "    </tr>\n",
       "    <tr>\n",
       "      <th>4</th>\n",
       "      <td>Democrats say Trump agrees to work on immigrat...</td>\n",
       "      <td>Real</td>\n",
       "      <td>1</td>\n",
       "      <td>Democrats say Trump agree to work on immigrati...</td>\n",
       "    </tr>\n",
       "  </tbody>\n",
       "</table>\n",
       "</div>"
      ],
      "text/plain": [
       "                                                Text label  label_num  \\\n",
       "0   Top Trump Surrogate BRUTALLY Stabs Him In The...  Fake          0   \n",
       "1  U.S. conservative leader optimistic of common ...  Real          1   \n",
       "2  Trump proposes U.S. tax overhaul, stirs concer...  Real          1   \n",
       "3   Court Forces Ohio To Allow Millions Of Illega...  Fake          0   \n",
       "4  Democrats say Trump agrees to work on immigrat...  Real          1   \n",
       "\n",
       "                                    preprocessed_txt  \n",
       "0    Top Trump Surrogate BRUTALLY Stabs Him in th...  \n",
       "1  U.S. conservative leader optimistic of common ...  \n",
       "2  trump propose U.S. tax overhaul , stir concern...  \n",
       "3    Court Forces Ohio to allow million of illega...  \n",
       "4  Democrats say Trump agree to work on immigrati...  "
      ]
     },
     "execution_count": 51,
     "metadata": {},
     "output_type": "execute_result"
    }
   ],
   "source": [
    "data.head()"
   ]
  },
  {
   "cell_type": "code",
   "execution_count": 52,
   "id": "435a6baf",
   "metadata": {},
   "outputs": [
    {
     "data": {
      "text/plain": [
       "((7920,),\n",
       " (1980,),\n",
       " 0    1000\n",
       " 1     980\n",
       " Name: label_num, dtype: int64,\n",
       " 0    4000\n",
       " 1    3920\n",
       " Name: label_num, dtype: int64)"
      ]
     },
     "execution_count": 52,
     "metadata": {},
     "output_type": "execute_result"
    }
   ],
   "source": [
    "X_train,X_test,y_train,y_test= train_test_split(data.preprocessed_txt,data.label_num,random_state = 2022,test_size = 0.2,stratify = data.label_num)\n",
    "X_train.shape,X_test.shape,y_test.value_counts(),y_train.value_counts()"
   ]
  },
  {
   "cell_type": "markdown",
   "id": "bb840873",
   "metadata": {},
   "source": [
    "## Let's check the scores with our best model till now\n",
    "\n",
    "Random Forest\n",
    "Attempt1 :\n",
    "\n",
    "using the sklearn pipeline module create a classification pipeline to classify the Data.\n",
    "Note:\n",
    "\n",
    "using CountVectorizer with only trigrams.\n",
    "use RandomForest as the classifier.\n",
    "print the classification report."
   ]
  },
  {
   "cell_type": "code",
   "execution_count": 53,
   "id": "442fb66f",
   "metadata": {},
   "outputs": [
    {
     "name": "stdout",
     "output_type": "stream",
     "text": [
      "              precision    recall  f1-score   support\n",
      "\n",
      "           0       1.00      0.99      0.99      1000\n",
      "           1       0.99      1.00      0.99       980\n",
      "\n",
      "    accuracy                           0.99      1980\n",
      "   macro avg       0.99      0.99      0.99      1980\n",
      "weighted avg       0.99      0.99      0.99      1980\n",
      "\n"
     ]
    }
   ],
   "source": [
    "Random_pipeline1 = Pipeline([\n",
    "    \n",
    "    (\"vectorizer\",CountVectorizer(ngram_range = (3,3))),\n",
    "    (\"RandomF_model\",RandomForestClassifier(n_estimators = 100, criterion = \"entropy\"))\n",
    "])\n",
    "Random_pipeline1.fit(X_train,y_train)\n",
    "y_pred = Random_pipeline1.predict(X_test)\n",
    "print(classification_report(y_test,y_pred))"
   ]
  },
  {
   "cell_type": "code",
   "execution_count": 54,
   "id": "55888720",
   "metadata": {},
   "outputs": [
    {
     "name": "stdout",
     "output_type": "stream",
     "text": [
      "              precision    recall  f1-score   support\n",
      "\n",
      "           0       0.99      1.00      0.99      1000\n",
      "           1       1.00      0.99      0.99       980\n",
      "\n",
      "    accuracy                           0.99      1980\n",
      "   macro avg       0.99      0.99      0.99      1980\n",
      "weighted avg       0.99      0.99      0.99      1980\n",
      "\n"
     ]
    }
   ],
   "source": [
    "Random_pipeline1 = Pipeline([\n",
    "    \n",
    "    (\"vectorizer\",CountVectorizer(ngram_range = (1,3))),\n",
    "    (\"RandomF_model\",RandomForestClassifier(n_estimators = 100, criterion = \"entropy\"))\n",
    "])\n",
    "Random_pipeline1.fit(X_train,y_train)\n",
    "y_pred = Random_pipeline1.predict(X_test)\n",
    "print(classification_report(y_test,y_pred))"
   ]
  },
  {
   "cell_type": "code",
   "execution_count": 65,
   "id": "5f4c97e9",
   "metadata": {},
   "outputs": [
    {
     "data": {
      "text/plain": [
       "<AxesSubplot:>"
      ]
     },
     "execution_count": 65,
     "metadata": {},
     "output_type": "execute_result"
    },
    {
     "data": {
      "image/png": "[encoded data removed]",
      "text/plain": [
       "<Figure size 432x288 with 2 Axes>"
      ]
     },
     "metadata": {
      "needs_background": "light"
     },
     "output_type": "display_data"
    }
   ],
   "source": [
    "from sklearn.metrics import confusion_matrix\n",
    "import seaborn as sm\n",
    "\n",
    "cm = confusion_matrix(y_test,y_pred)\n",
    "sm.heatmap(cm,annot = True,fmt = 'd')"
   ]
  }
 ],
 "metadata": {
  "kernelspec": {
   "display_name": "Python 3",
   "language": "python",
   "name": "python3"
  },
  "language_info": {
   "codemirror_mode": {
    "name": "ipython",
    "version": 3
   },
   "file_extension": ".py",
   "mimetype": "text/x-python",
   "name": "python",
   "nbconvert_exporter": "python",
   "pygments_lexer": "ipython3",
   "version": "3.8.8"
  }
 },
 "nbformat": 4,
 "nbformat_minor": 5
}
