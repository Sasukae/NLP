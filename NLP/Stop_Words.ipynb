{
 "cells": [
  {
   "cell_type": "code",
   "execution_count": 2,
   "id": "1812030d",
   "metadata": {},
   "outputs": [],
   "source": [
    "import pandas as pd\n",
    "import spacy\n",
    "nlp = spacy.load(\"en_core_web_sm\")"
   ]
  },
  {
   "cell_type": "markdown",
   "id": "59248879",
   "metadata": {},
   "source": [
    "## Exercise1:\n",
    "\n",
    "From a Given Text, Count the number of stop words in it.\n",
    "Print the percentage of stop word tokens compared to all tokens in a given text."
   ]
  },
  {
   "cell_type": "code",
   "execution_count": 37,
   "id": "b28290cd",
   "metadata": {},
   "outputs": [],
   "source": [
    "text = '''\n",
    "Thor: Love and Thunder is a 2022 American superhero film based on Marvel Comics featuring the character Thor, produced by Marvel Studios and \n",
    "distributed by Walt Disney Studios Motion Pictures. It is the sequel to Thor: Ragnarok (2017) and the 29th film in the Marvel Cinematic Universe (MCU).\n",
    "The film is directed by Taika Waititi, who co-wrote the script with Jennifer Kaytin Robinson, and stars Chris Hemsworth as Thor alongside Christian Bale, Tessa Thompson,\n",
    "Jaimie Alexander, Waititi, Russell Crowe, and Natalie Portman. In the film, Thor attempts to find inner peace, but must return to action and recruit Valkyrie (Thompson),\n",
    "Korg (Waititi), and Jane Foster (Portman)—who is now the Mighty Thor—to stop Gorr the God Butcher (Bale) from eliminating all gods.\n",
    "'''\n",
    "doc = nlp(text)"
   ]
  },
  {
   "cell_type": "code",
   "execution_count": 14,
   "id": "1dc28ac1",
   "metadata": {},
   "outputs": [
    {
     "data": {
      "text/plain": [
       "25.0"
      ]
     },
     "execution_count": 14,
     "metadata": {},
     "output_type": "execute_result"
    }
   ],
   "source": [
    "stop_words = [token.text for token in doc if token.is_stop]\n",
    "total_words = [ token.text for token in doc]\n",
    "(len(stop_words)/len(total_words))*100"
   ]
  },
  {
   "cell_type": "markdown",
   "id": "c7cea965",
   "metadata": {},
   "source": [
    "## Exercise2:\n",
    "\n",
    "Spacy default implementation considers \"not\" as a stop word. But in some scenarios removing 'not' will completely change the meaning of the statement/text. For Example, consider these two statements:\n",
    "\n",
    "- this is a good movie       ----> Positive Statement\n",
    "- this is not a good movie   ----> Negative Statement\n",
    "\n",
    "So, after applying stopwords to those 2 texts, both will return \"good movie\" and does not respect the polarity/sentiments of text.\n",
    "\n",
    "Now, your task is to remove this stop word \"not\" in spaCy and help in distinguishing the texts.\n",
    "\n",
    "Hint: GOOGLE IT! Google is your friend."
   ]
  },
  {
   "cell_type": "code",
   "execution_count": 17,
   "id": "3bbff35d",
   "metadata": {},
   "outputs": [
    {
     "data": {
      "text/html": [
       "<div>\n",
       "<style scoped>\n",
       "    .dataframe tbody tr th:only-of-type {\n",
       "        vertical-align: middle;\n",
       "    }\n",
       "\n",
       "    .dataframe tbody tr th {\n",
       "        vertical-align: top;\n",
       "    }\n",
       "\n",
       "    .dataframe thead th {\n",
       "        text-align: right;\n",
       "    }\n",
       "</style>\n",
       "<table border=\"1\" class=\"dataframe\">\n",
       "  <thead>\n",
       "    <tr style=\"text-align: right;\">\n",
       "      <th></th>\n",
       "      <th>Texts</th>\n",
       "      <th>Processed_text</th>\n",
       "    </tr>\n",
       "  </thead>\n",
       "  <tbody>\n",
       "    <tr>\n",
       "      <th>0</th>\n",
       "      <td>this is a good movie</td>\n",
       "      <td>good movie</td>\n",
       "    </tr>\n",
       "    <tr>\n",
       "      <th>1</th>\n",
       "      <td>this is not a good movie</td>\n",
       "      <td>not good movie</td>\n",
       "    </tr>\n",
       "  </tbody>\n",
       "</table>\n",
       "</div>"
      ],
      "text/plain": [
       "                      Texts  Processed_text\n",
       "0      this is a good movie      good movie\n",
       "1  this is not a good movie  not good movie"
      ]
     },
     "execution_count": 17,
     "metadata": {},
     "output_type": "execute_result"
    }
   ],
   "source": [
    "def preprocess(text):\n",
    "    doc = nlp(text)\n",
    "    no_stop_words = [token.text for token in doc if not token.is_stop]\n",
    "    return \" \".join(no_stop_words)  \n",
    "\n",
    "#Step1: remove the stopword 'not' in spacy\n",
    "nlp.vocab['not'].is_stop = False\n",
    "\n",
    "text = [\"this is a good movie\",\"this is not a good movie\"]\n",
    "data = pd.DataFrame(text,columns = [\"Texts\"])\n",
    "data[\"Processed_text\"] = data[\"Texts\"].apply(lambda x: preprocess(x))\n",
    "data"
   ]
  },
  {
   "cell_type": "markdown",
   "id": "75eb7680",
   "metadata": {},
   "source": [
    "## Exercise3:\n",
    "\n",
    "From a given text, output the most frequently used token after removing all the stop word tokens and punctuations in it."
   ]
  },
  {
   "cell_type": "code",
   "execution_count": 30,
   "id": "e990caa5",
   "metadata": {},
   "outputs": [
    {
     "data": {
      "text/plain": [
       "'Thor'"
      ]
     },
     "execution_count": 30,
     "metadata": {},
     "output_type": "execute_result"
    }
   ],
   "source": [
    "not_stop_words = [token.text for token in doc if not token.is_stop and not token.is_punct]\n",
    "freq_token = {}\n",
    "for i in not_stop_words:\n",
    "    if i != \"\\n\" and i !=\" \":\n",
    "        if i not in freq_token.keys():\n",
    "            freq_token[i] = 1\n",
    "        else:\n",
    "            freq_token[i] += 1\n",
    "max(freq_token.keys(),key=(lambda key: freq_token[key]))"
   ]
  },
  {
   "cell_type": "code",
   "execution_count": 36,
   "id": "11d6b3ed",
   "metadata": {},
   "outputs": [
    {
     "data": {
      "text/plain": [
       "['this is a good movie', 'this is not a good movie']"
      ]
     },
     "execution_count": 36,
     "metadata": {},
     "output_type": "execute_result"
    }
   ],
   "source": [
    "text"
   ]
  },
  {
   "cell_type": "markdown",
   "id": "78bb4dc9",
   "metadata": {},
   "source": [
    "## Stopwords using NLTK"
   ]
  },
  {
   "cell_type": "code",
   "execution_count": 42,
   "id": "07f5674b",
   "metadata": {},
   "outputs": [
    {
     "data": {
      "text/plain": [
       "35"
      ]
     },
     "execution_count": 42,
     "metadata": {},
     "output_type": "execute_result"
    }
   ],
   "source": [
    "import nltk\n",
    "from nltk.corpus import stopwords\n",
    "from nltk.tokenize import word_tokenize\n",
    "nltk_stop_words = set(stopwords.words(\"english\"))\n",
    "words = word_tokenize(text)\n",
    "stop_words_not_req = {\"more\",\"not\"}\n",
    "stop_words = [ word for word in words if word in nltk_stop_words and word not in stop_words_not_req ]\n",
    "len(stop_words)\n"
   ]
  }
 ],
 "metadata": {
  "kernelspec": {
   "display_name": "Python 3",
   "language": "python",
   "name": "python3"
  },
  "language_info": {
   "codemirror_mode": {
    "name": "ipython",
    "version": 3
   },
   "file_extension": ".py",
   "mimetype": "text/x-python",
   "name": "python",
   "nbconvert_exporter": "python",
   "pygments_lexer": "ipython3",
   "version": "3.8.8"
  }
 },
 "nbformat": 4,
 "nbformat_minor": 5
}
